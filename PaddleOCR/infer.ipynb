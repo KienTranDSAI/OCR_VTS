{
 "cells": [
  {
   "cell_type": "code",
   "execution_count": 1,
   "id": "922dc22c",
   "metadata": {},
   "outputs": [],
   "source": [
    "import os\n",
    "import matplotlib.pyplot as plt\n",
    "from PIL import Image\n",
    "os.environ['CUDA_VISIBLE_DEVICES'] = '0'"
   ]
  },
  {
   "cell_type": "code",
   "execution_count": 2,
   "id": "d5f57b72",
   "metadata": {},
   "outputs": [],
   "source": [
    "with open(\"/raid/kientdt/shared_drive_cv/ocr/kientdt/PaddleOCR/rec_gt_val_v2_2712.txt\", \"a\", encoding=\"utf-8\") as file:\n",
    "    with open(\"/raid/kientdt/shared_drive_cv/ocr/kientdt/PaddleOCR/rec_gt_val_2712.txt\", \"r\", encoding=\"utf-8\") as old_file:\n",
    "        annotations = old_file.readlines()\n",
    "        for line in annotations:\n",
    "            new_line = \"ocr_text_recog_hieunq_v2/\" + line\n",
    "            file.write(new_line) "
   ]
  },
  {
   "cell_type": "code",
   "execution_count": 3,
   "id": "a5020303",
   "metadata": {},
   "outputs": [
    {
     "name": "stdout",
     "output_type": "stream",
     "text": [
      "/raid/tungnt/.conda/envs/paddleocr/bin/python\n"
     ]
    }
   ],
   "source": [
    "!which python\n",
    "##Python path need to be: /raid/tungnt/.conda/envs/paddleocr/bin/python"
   ]
  },
  {
   "cell_type": "code",
   "execution_count": 4,
   "id": "2b2b6c9b",
   "metadata": {},
   "outputs": [
    {
     "ename": "FileNotFoundError",
     "evalue": "[Errno 2] No such file or directory: '/raid/kientdt/shared_drive_cv/ocr/kientdt/PaddleOCR/ocr_v4/train'",
     "output_type": "error",
     "traceback": [
      "\u001b[0;31m---------------------------------------------------------------------------\u001b[0m",
      "\u001b[0;31mFileNotFoundError\u001b[0m                         Traceback (most recent call last)",
      "Cell \u001b[0;32mIn[4], line 1\u001b[0m\n\u001b[0;32m----> 1\u001b[0m image_names \u001b[38;5;241m=\u001b[39m \u001b[43mos\u001b[49m\u001b[38;5;241;43m.\u001b[39;49m\u001b[43mlistdir\u001b[49m\u001b[43m(\u001b[49m\u001b[38;5;124;43m\"\u001b[39;49m\u001b[38;5;124;43m/raid/kientdt/shared_drive_cv/ocr/kientdt/PaddleOCR/ocr_v4/train\u001b[39;49m\u001b[38;5;124;43m\"\u001b[39;49m\u001b[43m)\u001b[49m\n\u001b[1;32m      2\u001b[0m image_names[:\u001b[38;5;241m5\u001b[39m]\n",
      "\u001b[0;31mFileNotFoundError\u001b[0m: [Errno 2] No such file or directory: '/raid/kientdt/shared_drive_cv/ocr/kientdt/PaddleOCR/ocr_v4/train'"
     ]
    }
   ],
   "source": [
    "image_names = os.listdir(\"/raid/kientdt/shared_drive_cv/ocr/kientdt/PaddleOCR/ocr_v4/train\")\n",
    "image_names[:5]\n"
   ]
  },
  {
   "cell_type": "code",
   "execution_count": 14,
   "id": "c0142aad",
   "metadata": {},
   "outputs": [
    {
     "data": {
      "image/jpeg": "[encoded data removed]",
      "image/png": "[encoded data removed]",
      "text/plain": [
       "<PIL.JpegImagePlugin.JpegImageFile image mode=RGB size=368x48>"
      ]
     },
     "execution_count": 14,
     "metadata": {},
     "output_type": "execute_result"
    }
   ],
   "source": [
    "\n",
    "Image.open(\"/raid/kientdt/shared_drive_cv/ocr/kientdt/PaddleOCR/ocr_v4/train/img_70672.jpg\")"
   ]
  },
  {
   "cell_type": "markdown",
   "id": "81dc873b",
   "metadata": {},
   "source": [
    "# Infer vietnamese recognition model"
   ]
  },
  {
   "cell_type": "markdown",
   "id": "31ddd07f",
   "metadata": {},
   "source": [
    "#"
   ]
  },
  {
   "cell_type": "code",
   "execution_count": 15,
   "id": "9ec99fad",
   "metadata": {},
   "outputs": [
    {
     "name": "stdout",
     "output_type": "stream",
     "text": [
      "[2024/12/25 08:32:47] ppocr WARNING: The first GPU is used for inference by default, GPU ID: 0\n",
      "[2024/12/25 08:32:48] ppocr INFO: In PP-OCRv3, rec_image_shape parameter defaults to '3, 48, 320', if you are using recognition model with PP-OCRv2 or an older version, please set --rec_image_shape='3,32,320\n",
      "[2024/12/25 08:32:48] ppocr INFO: Predicts of ./ocr_v4/train/img_70672.jpg:('2013 đến hết ngày 30', 0.9699538946151733)\n"
     ]
    }
   ],
   "source": [
    "!python3 tools/infer/predict_rec.py \\\n",
    "    --image_dir=\"./ocr_v4/train/img_70672.jpg\" \\\n",
    "    --rec_model_dir=\"./inference/vi_ver_with_number/\" \\\n",
    "    --rec_char_dict_path=\"ppocr/utils/dict/my_vi_dict.txt\""
   ]
  },
  {
   "cell_type": "code",
   "execution_count": 12,
   "id": "d6d55bb3",
   "metadata": {},
   "outputs": [
    {
     "data": {
      "text/plain": [
       "['page_num_0_block_num_7.png',\n",
       " 'page_num_0_block_num_4.png',\n",
       " 'page_num_0_block_num_5.png',\n",
       " 'page_num_1_block_num_2.png',\n",
       " 'page_num_1_block_num_0.png',\n",
       " 'page_num_1_block_num_8.png',\n",
       " 'page_num_0_block_num_1.png',\n",
       " 'page_num_1_block_num_10.png',\n",
       " 'page_num_0_block_num_3.png',\n",
       " 'page_num_0_block_num_10.png',\n",
       " 'page_num_0_block_num_0.png',\n",
       " 'page_num_0_block_num_9.png',\n",
       " 'page_num_1_block_num_1.png',\n",
       " 'page_num_1_block_num_4.png',\n",
       " 'page_num_1_block_num_11.png',\n",
       " 'page_num_0_block_num_11.png',\n",
       " 'page_num_0_block_num_2.png',\n",
       " 'page_num_1_block_num_6.png',\n",
       " 'page_num_1_block_num_5.png',\n",
       " 'page_num_0_block_num_6.png',\n",
       " 'page_num_1_block_num_3.png',\n",
       " 'page_num_1_block_num_7.png']"
      ]
     },
     "execution_count": 12,
     "metadata": {},
     "output_type": "execute_result"
    }
   ],
   "source": [
    "import os\n",
    "os.listdir(\"/raid/kientdt/shared_drive_cv/ocr/kientdt/DetectionData/images/06.2001.CT.NHNN\")"
   ]
  },
  {
   "cell_type": "markdown",
   "id": "bcf9c67c",
   "metadata": {},
   "source": [
    "# Infer detection"
   ]
  },
  {
   "cell_type": "code",
   "execution_count": 16,
   "id": "e0903f9c",
   "metadata": {},
   "outputs": [
    {
     "name": "stdout",
     "output_type": "stream",
     "text": [
      "[2025/01/07 06:56:21] ppocr WARNING: The first GPU is used for inference by default, GPU ID: 0\n",
      "[2025/01/07 06:56:25] ppocr INFO: GSK3.png\t[[[22.0, 672.0], [50.0, 672.0], [50.0, 703.0], [22.0, 703.0]], [[102.0, 669.0], [167.0, 664.0], [169.0, 698.0], [104.0, 702.0]], [[49.0, 668.0], [105.0, 665.0], [107.0, 700.0], [51.0, 703.0]], [[19.0, 634.0], [67.0, 634.0], [67.0, 670.0], [19.0, 670.0]], [[150.0, 633.0], [258.0, 630.0], [258.0, 663.0], [150.0, 665.0]], [[64.0, 632.0], [111.0, 629.0], [113.0, 667.0], [66.0, 670.0]], [[108.0, 633.0], [149.0, 630.0], [151.0, 667.0], [110.0, 669.0]], [[340.0, 631.0], [451.0, 628.0], [452.0, 653.0], [341.0, 655.0]], [[291.0, 626.0], [339.0, 626.0], [339.0, 662.0], [291.0, 662.0]], [[259.0, 627.0], [293.0, 627.0], [293.0, 664.0], [259.0, 664.0]], [[508.0, 624.0], [599.0, 624.0], [599.0, 655.0], [508.0, 655.0]], [[453.0, 624.0], [506.0, 621.0], [508.0, 656.0], [455.0, 659.0]], [[597.0, 622.0], [651.0, 617.0], [654.0, 652.0], [601.0, 657.0]], [[650.0, 620.0], [708.0, 616.0], [711.0, 651.0], [652.0, 655.0]], [[708.0, 619.0], [772.0, 616.0], [774.0, 649.0], [710.0, 652.0]], [[785.0, 617.0], [836.0, 613.0], [838.0, 648.0], [787.0, 651.0]], [[834.0, 614.0], [876.0, 612.0], [878.0, 646.0], [836.0, 649.0]], [[947.0, 612.0], [1019.0, 608.0], [1021.0, 641.0], [949.0, 646.0]], [[875.0, 612.0], [922.0, 612.0], [922.0, 647.0], [875.0, 647.0]], [[920.0, 611.0], [949.0, 611.0], [949.0, 646.0], [920.0, 646.0]], [[18.0, 602.0], [69.0, 602.0], [69.0, 633.0], [18.0, 633.0]], [[66.0, 600.0], [121.0, 597.0], [123.0, 631.0], [68.0, 634.0]], [[120.0, 599.0], [177.0, 596.0], [179.0, 630.0], [122.0, 633.0]], [[220.0, 595.0], [273.0, 592.0], [275.0, 628.0], [223.0, 631.0]], [[174.0, 597.0], [222.0, 593.0], [225.0, 629.0], [177.0, 632.0]], [[364.0, 594.0], [437.0, 591.0], [438.0, 624.0], [365.0, 626.0]], [[299.0, 594.0], [364.0, 591.0], [366.0, 626.0], [301.0, 629.0]], [[270.0, 595.0], [299.0, 591.0], [304.0, 626.0], [275.0, 630.0]], [[437.0, 593.0], [493.0, 590.0], [495.0, 621.0], [439.0, 624.0]], [[494.0, 590.0], [552.0, 587.0], [554.0, 620.0], [496.0, 623.0]], [[672.0, 587.0], [730.0, 587.0], [730.0, 617.0], [672.0, 617.0]], [[553.0, 587.0], [592.0, 587.0], [592.0, 623.0], [553.0, 623.0]], [[592.0, 586.0], [626.0, 586.0], [626.0, 622.0], [592.0, 622.0]], [[730.0, 586.0], [783.0, 583.0], [785.0, 614.0], [732.0, 618.0]], [[623.0, 587.0], [669.0, 583.0], [671.0, 618.0], [625.0, 621.0]], [[812.0, 584.0], [864.0, 581.0], [866.0, 611.0], [814.0, 614.0]], [[783.0, 583.0], [812.0, 581.0], [814.0, 615.0], [785.0, 616.0]], [[902.0, 580.0], [958.0, 577.0], [960.0, 608.0], [904.0, 611.0]], [[864.0, 580.0], [903.0, 577.0], [905.0, 611.0], [866.0, 613.0]], [[958.0, 579.0], [1018.0, 576.0], [1020.0, 608.0], [959.0, 611.0]], [[16.0, 566.0], [75.0, 566.0], [75.0, 599.0], [16.0, 599.0]], [[73.0, 565.0], [126.0, 562.0], [128.0, 599.0], [75.0, 602.0]], [[184.0, 561.0], [234.0, 561.0], [234.0, 597.0], [184.0, 597.0]], [[125.0, 563.0], [185.0, 560.0], [186.0, 596.0], [127.0, 599.0]], [[259.0, 561.0], [335.0, 558.0], [336.0, 591.0], [260.0, 594.0]], [[229.0, 561.0], [258.0, 559.0], [260.0, 594.0], [232.0, 597.0]], [[379.0, 558.0], [437.0, 554.0], [439.0, 589.0], [381.0, 592.0]], [[336.0, 558.0], [379.0, 554.0], [382.0, 592.0], [339.0, 596.0]], [[437.0, 556.0], [491.0, 553.0], [493.0, 588.0], [439.0, 591.0]], [[535.0, 554.0], [596.0, 551.0], [598.0, 586.0], [537.0, 589.0]], [[488.0, 556.0], [535.0, 550.0], [539.0, 587.0], [492.0, 593.0]], [[623.0, 550.0], [673.0, 550.0], [673.0, 586.0], [623.0, 586.0]], [[597.0, 551.0], [626.0, 551.0], [626.0, 587.0], [597.0, 587.0]], [[37.0, 533.0], [108.0, 530.0], [110.0, 562.0], [38.0, 565.0]], [[16.0, 536.0], [33.0, 536.0], [33.0, 561.0], [16.0, 561.0]], [[111.0, 532.0], [218.0, 525.0], [220.0, 558.0], [113.0, 564.0]], [[237.0, 526.0], [297.0, 523.0], [299.0, 558.0], [239.0, 562.0]], [[225.0, 533.0], [233.0, 533.0], [233.0, 557.0], [225.0, 557.0]], [[347.0, 524.0], [407.0, 524.0], [407.0, 557.0], [347.0, 557.0]], [[297.0, 525.0], [345.0, 522.0], [348.0, 559.0], [299.0, 562.0]], [[492.0, 522.0], [563.0, 518.0], [565.0, 550.0], [494.0, 554.0]], [[406.0, 523.0], [447.0, 520.0], [450.0, 554.0], [409.0, 558.0]], [[448.0, 522.0], [489.0, 518.0], [492.0, 552.0], [451.0, 556.0]], [[566.0, 519.0], [624.0, 515.0], [626.0, 550.0], [568.0, 553.0]], [[687.0, 517.0], [780.0, 517.0], [780.0, 545.0], [687.0, 545.0]], [[626.0, 517.0], [680.0, 514.0], [682.0, 549.0], [628.0, 552.0]], [[818.0, 514.0], [897.0, 510.0], [898.0, 539.0], [819.0, 543.0]], [[782.0, 512.0], [812.0, 510.0], [814.0, 546.0], [784.0, 547.0]], [[945.0, 510.0], [1016.0, 507.0], [1018.0, 539.0], [946.0, 542.0]], [[901.0, 510.0], [943.0, 506.0], [946.0, 539.0], [904.0, 542.0]], [[13.0, 502.0], [63.0, 497.0], [66.0, 528.0], [16.0, 533.0]], [[63.0, 499.0], [104.0, 495.0], [107.0, 527.0], [65.0, 531.0]], [[104.0, 497.0], [213.0, 488.0], [215.0, 519.0], [107.0, 528.0]], [[219.0, 494.0], [269.0, 491.0], [271.0, 522.0], [221.0, 525.0]], [[303.0, 493.0], [358.0, 490.0], [359.0, 520.0], [304.0, 523.0]], [[271.0, 492.0], [302.0, 492.0], [302.0, 525.0], [271.0, 525.0]], [[357.0, 492.0], [403.0, 488.0], [405.0, 521.0], [359.0, 524.0]], [[401.0, 489.0], [456.0, 485.0], [458.0, 519.0], [403.0, 523.0]], [[519.0, 486.0], [578.0, 483.0], [580.0, 516.0], [521.0, 520.0]], [[481.0, 486.0], [520.0, 484.0], [522.0, 518.0], [483.0, 521.0]], [[455.0, 487.0], [485.0, 487.0], [485.0, 520.0], [455.0, 520.0]], [[606.0, 484.0], [661.0, 484.0], [661.0, 518.0], [606.0, 518.0]], [[658.0, 483.0], [715.0, 480.0], [717.0, 513.0], [660.0, 516.0]], [[715.0, 484.0], [822.0, 477.0], [824.0, 505.0], [716.0, 512.0]], [[575.0, 485.0], [603.0, 480.0], [608.0, 515.0], [581.0, 519.0]], [[825.0, 479.0], [883.0, 476.0], [884.0, 506.0], [827.0, 510.0]], [[883.0, 477.0], [928.0, 474.0], [930.0, 505.0], [885.0, 509.0]], [[975.0, 475.0], [1014.0, 472.0], [1017.0, 506.0], [977.0, 509.0]], [[931.0, 475.0], [977.0, 475.0], [977.0, 507.0], [931.0, 507.0]], [[41.0, 432.0], [96.0, 430.0], [98.0, 455.0], [42.0, 458.0]], [[14.0, 432.0], [40.0, 432.0], [40.0, 458.0], [14.0, 458.0]], [[148.0, 430.0], [205.0, 425.0], [207.0, 454.0], [150.0, 459.0]], [[97.0, 431.0], [147.0, 427.0], [149.0, 456.0], [99.0, 459.0]], [[208.0, 432.0], [222.0, 432.0], [222.0, 452.0], [208.0, 452.0]], [[12.0, 359.0], [57.0, 359.0], [57.0, 391.0], [12.0, 391.0]], [[104.0, 358.0], [160.0, 358.0], [160.0, 388.0], [104.0, 388.0]], [[57.0, 358.0], [102.0, 358.0], [102.0, 390.0], [57.0, 390.0]], [[159.0, 356.0], [205.0, 353.0], [207.0, 385.0], [161.0, 388.0]], [[203.0, 354.0], [258.0, 350.0], [260.0, 385.0], [205.0, 389.0]], [[292.0, 351.0], [350.0, 348.0], [352.0, 383.0], [293.0, 386.0]], [[254.0, 352.0], [292.0, 348.0], [296.0, 384.0], [258.0, 387.0]], [[389.0, 348.0], [436.0, 348.0], [436.0, 384.0], [389.0, 384.0]], [[351.0, 349.0], [390.0, 349.0], [390.0, 383.0], [351.0, 383.0]], [[435.0, 348.0], [494.0, 345.0], [496.0, 379.0], [437.0, 383.0]], [[493.0, 346.0], [554.0, 343.0], [556.0, 376.0], [494.0, 379.0]], [[551.0, 344.0], [598.0, 340.0], [600.0, 377.0], [554.0, 381.0]], [[637.0, 343.0], [694.0, 339.0], [696.0, 374.0], [639.0, 377.0]], [[597.0, 343.0], [638.0, 340.0], [640.0, 375.0], [599.0, 378.0]], [[692.0, 340.0], [730.0, 337.0], [734.0, 372.0], [695.0, 376.0]], [[810.0, 339.0], [871.0, 336.0], [872.0, 368.0], [812.0, 371.0]], [[765.0, 343.0], [777.0, 343.0], [777.0, 369.0], [765.0, 369.0]], [[731.0, 339.0], [768.0, 339.0], [768.0, 373.0], [731.0, 373.0]], [[872.0, 337.0], [949.0, 333.0], [951.0, 365.0], [874.0, 369.0]], [[779.0, 338.0], [814.0, 338.0], [814.0, 373.0], [779.0, 373.0]], [[965.0, 333.0], [1003.0, 333.0], [1003.0, 367.0], [965.0, 367.0]], [[9.0, 324.0], [71.0, 320.0], [73.0, 354.0], [11.0, 357.0]], [[73.0, 322.0], [125.0, 322.0], [125.0, 353.0], [73.0, 353.0]], [[124.0, 320.0], [179.0, 320.0], [179.0, 354.0], [124.0, 354.0]], [[219.0, 319.0], [281.0, 316.0], [283.0, 346.0], [221.0, 349.0]], [[174.0, 320.0], [219.0, 314.0], [223.0, 351.0], [178.0, 356.0]], [[280.0, 318.0], [342.0, 314.0], [344.0, 348.0], [283.0, 352.0]], [[342.0, 316.0], [401.0, 313.0], [403.0, 347.0], [344.0, 350.0]], [[399.0, 311.0], [570.0, 304.0], [571.0, 343.0], [400.0, 350.0]], [[604.0, 307.0], [690.0, 307.0], [690.0, 340.0], [604.0, 340.0]], [[754.0, 309.0], [870.0, 306.0], [871.0, 334.0], [755.0, 337.0]], [[690.0, 307.0], [752.0, 304.0], [754.0, 337.0], [691.0, 340.0]], [[568.0, 307.0], [604.0, 307.0], [604.0, 344.0], [568.0, 344.0]], [[860.0, 307.0], [922.0, 303.0], [924.0, 327.0], [862.0, 331.0]], [[921.0, 304.0], [996.0, 302.0], [997.0, 326.0], [922.0, 329.0]], [[6.0, 288.0], [50.0, 284.0], [52.0, 321.0], [9.0, 325.0]], [[124.0, 287.0], [178.0, 284.0], [180.0, 318.0], [126.0, 321.0]], [[80.0, 287.0], [126.0, 283.0], [129.0, 320.0], [83.0, 324.0]], [[49.0, 285.0], [83.0, 285.0], [83.0, 323.0], [49.0, 323.0]], [[221.0, 283.0], [268.0, 283.0], [268.0, 319.0], [221.0, 319.0]], [[175.0, 285.0], [221.0, 281.0], [224.0, 318.0], [178.0, 322.0]], [[266.0, 282.0], [315.0, 282.0], [315.0, 318.0], [266.0, 318.0]], [[352.0, 280.0], [410.0, 277.0], [412.0, 313.0], [354.0, 316.0]], [[314.0, 281.0], [354.0, 281.0], [354.0, 315.0], [314.0, 315.0]], [[452.0, 276.0], [509.0, 276.0], [509.0, 312.0], [452.0, 312.0]], [[408.0, 278.0], [452.0, 274.0], [455.0, 312.0], [411.0, 316.0]], [[506.0, 276.0], [569.0, 273.0], [570.0, 308.0], [508.0, 311.0]], [[569.0, 274.0], [623.0, 274.0], [623.0, 309.0], [569.0, 309.0]], [[684.0, 271.0], [747.0, 271.0], [747.0, 304.0], [684.0, 304.0]], [[652.0, 272.0], [688.0, 272.0], [688.0, 307.0], [652.0, 307.0]], [[620.0, 273.0], [650.0, 270.0], [654.0, 306.0], [624.0, 309.0]], [[781.0, 268.0], [829.0, 268.0], [829.0, 304.0], [781.0, 304.0]], [[748.0, 270.0], [782.0, 270.0], [782.0, 305.0], [748.0, 305.0]], [[873.0, 269.0], [1008.0, 266.0], [1009.0, 297.0], [873.0, 300.0]], [[824.0, 269.0], [871.0, 264.0], [875.0, 301.0], [828.0, 306.0]], [[9.0, 253.0], [81.0, 253.0], [81.0, 286.0], [9.0, 286.0]], [[83.0, 253.0], [153.0, 250.0], [155.0, 283.0], [84.0, 286.0]], [[191.0, 251.0], [262.0, 251.0], [262.0, 283.0], [191.0, 283.0]], [[155.0, 250.0], [189.0, 250.0], [189.0, 286.0], [155.0, 286.0]], [[265.0, 248.0], [312.0, 248.0], [312.0, 281.0], [265.0, 281.0]], [[313.0, 248.0], [412.0, 242.0], [414.0, 275.0], [315.0, 280.0]], [[469.0, 244.0], [530.0, 244.0], [530.0, 272.0], [469.0, 272.0]], [[410.0, 247.0], [471.0, 241.0], [473.0, 270.0], [413.0, 276.0]], [[527.0, 242.0], [604.0, 242.0], [604.0, 271.0], [527.0, 271.0]], [[684.0, 238.0], [741.0, 235.0], [743.0, 269.0], [686.0, 272.0]], [[639.0, 237.0], [684.0, 234.0], [686.0, 272.0], [641.0, 275.0]], [[607.0, 237.0], [640.0, 237.0], [640.0, 274.0], [607.0, 274.0]], [[786.0, 235.0], [828.0, 235.0], [828.0, 270.0], [786.0, 270.0]], [[745.0, 235.0], [786.0, 235.0], [786.0, 270.0], [745.0, 270.0]], [[916.0, 233.0], [1010.0, 229.0], [1011.0, 260.0], [917.0, 264.0]], [[827.0, 236.0], [864.0, 231.0], [868.0, 266.0], [831.0, 271.0]], [[865.0, 232.0], [915.0, 229.0], [917.0, 266.0], [867.0, 269.0]], [[7.0, 219.0], [67.0, 219.0], [67.0, 253.0], [7.0, 253.0]], [[107.0, 221.0], [213.0, 218.0], [213.0, 246.0], [108.0, 249.0]], [[65.0, 218.0], [106.0, 216.0], [108.0, 250.0], [67.0, 253.0]], [[217.0, 216.0], [276.0, 216.0], [276.0, 246.0], [217.0, 246.0]], [[276.0, 213.0], [311.0, 213.0], [311.0, 247.0], [276.0, 247.0]], [[354.0, 213.0], [454.0, 209.0], [455.0, 240.0], [355.0, 244.0]], [[308.0, 213.0], [354.0, 210.0], [356.0, 243.0], [310.0, 247.0]], [[455.0, 209.0], [521.0, 206.0], [522.0, 239.0], [456.0, 242.0]], [[551.0, 207.0], [603.0, 203.0], [605.0, 238.0], [553.0, 241.0]], [[649.0, 205.0], [734.0, 202.0], [735.0, 234.0], [650.0, 236.0]], [[604.0, 204.0], [652.0, 204.0], [652.0, 240.0], [604.0, 240.0]], [[518.0, 206.0], [553.0, 202.0], [556.0, 240.0], [521.0, 244.0]], [[734.0, 202.0], [799.0, 198.0], [801.0, 232.0], [737.0, 237.0]], [[3.0, 187.0], [70.0, 187.0], [70.0, 221.0], [3.0, 221.0]], [[137.0, 185.0], [246.0, 180.0], [248.0, 211.0], [139.0, 217.0]], [[69.0, 185.0], [128.0, 182.0], [130.0, 216.0], [71.0, 219.0]], [[258.0, 182.0], [307.0, 182.0], [307.0, 213.0], [258.0, 213.0]], [[307.0, 180.0], [362.0, 177.0], [364.0, 211.0], [309.0, 214.0]], [[361.0, 178.0], [415.0, 174.0], [417.0, 209.0], [364.0, 212.0]], [[415.0, 175.0], [471.0, 172.0], [473.0, 208.0], [417.0, 211.0]], [[527.0, 174.0], [638.0, 169.0], [639.0, 201.0], [528.0, 207.0]], [[470.0, 174.0], [526.0, 171.0], [528.0, 206.0], [472.0, 209.0]], [[674.0, 169.0], [728.0, 169.0], [728.0, 204.0], [674.0, 204.0]], [[639.0, 170.0], [675.0, 170.0], [675.0, 205.0], [639.0, 205.0]], [[727.0, 169.0], [783.0, 166.0], [785.0, 200.0], [729.0, 203.0]], [[783.0, 166.0], [844.0, 163.0], [846.0, 198.0], [784.0, 201.0]], [[845.0, 167.0], [930.0, 161.0], [932.0, 193.0], [847.0, 199.0]], [[933.0, 168.0], [945.0, 168.0], [945.0, 193.0], [933.0, 193.0]], [[947.0, 163.0], [1008.0, 160.0], [1010.0, 193.0], [948.0, 197.0]], [[3.0, 119.0], [85.0, 114.0], [87.0, 147.0], [4.0, 151.0]], [[88.0, 117.0], [152.0, 117.0], [152.0, 146.0], [88.0, 146.0]], [[72.0, 53.0], [81.0, 53.0], [81.0, 70.0], [72.0, 70.0]], [[28.0, 50.0], [71.0, 46.0], [73.0, 73.0], [30.0, 76.0]], [[5.0, 49.0], [40.0, 49.0], [40.0, 76.0], [5.0, 76.0]], [[88.0, 45.0], [145.0, 45.0], [145.0, 75.0], [88.0, 75.0]], [[163.0, 45.0], [201.0, 45.0], [201.0, 72.0], [163.0, 72.0]], [[149.0, 47.0], [167.0, 47.0], [167.0, 71.0], [149.0, 71.0]], [[205.0, 41.0], [257.0, 41.0], [257.0, 72.0], [205.0, 72.0]], [[270.0, 40.0], [331.0, 35.0], [333.0, 69.0], [272.0, 73.0]], [[258.0, 43.0], [270.0, 43.0], [270.0, 69.0], [258.0, 69.0]], [[404.0, 42.0], [417.0, 42.0], [417.0, 67.0], [404.0, 67.0]], [[331.0, 40.0], [400.0, 35.0], [402.0, 67.0], [333.0, 72.0]]]\n",
      "\n",
      "[2025/01/07 06:56:25] ppocr INFO: 0 The predict time of /raid/kientdt/shared_drive_cv/ocr/tungnt/document_extraction/data/test/GSK3.png: 1.517655611038208\n",
      "[2025/01/07 06:56:25] ppocr INFO: The visualized image saved in ./inference_results/det_res_GSK3.png\n"
     ]
    }
   ],
   "source": [
    "!python3 tools/infer/predict_det.py \\\n",
    "    --image_dir=\"/raid/kientdt/shared_drive_cv/ocr/tungnt/document_extraction/data/test/GSK3.png\" \\\n",
    "    --det_model_dir=\"./inference/vi_det_db_inference_best_accuracy_with_augmentation\" "
   ]
  },
  {
   "cell_type": "markdown",
   "id": "bc508a4b",
   "metadata": {},
   "source": [
    "# Infer english detection and vietnamese recognition"
   ]
  },
  {
   "cell_type": "code",
   "execution_count": 26,
   "id": "bb044f06",
   "metadata": {},
   "outputs": [
    {
     "name": "stdout",
     "output_type": "stream",
     "text": [
      "[2024/12/31 02:44:23] ppocr WARNING: The first GPU is used for inference by default, GPU ID: 0\n",
      "[2024/12/31 02:44:24] ppocr WARNING: The first GPU is used for inference by default, GPU ID: 0\n",
      "[2024/12/31 02:44:25] ppocr INFO: In PP-OCRv3, rec_image_shape parameter defaults to '3, 48, 320', if you are using recognition model with PP-OCRv2 or an older version, please set --rec_image_shape='3,32,320\n",
      "[2024/12/31 02:44:25] ppocr DEBUG: dt_boxes num : 150, elapsed : 0.5422956943511963\n",
      "[2024/12/31 02:44:25] ppocr DEBUG: rec_res num  : 150, elapsed : 0.15671491622924805\n",
      "[2024/12/31 02:44:25] ppocr DEBUG: 0  Predict time of /raid/kientdt/shared_drive_cv/ocr/tungnt/document_extraction/data/test/Test1.png: 0.716s\n",
      "[2024/12/31 02:44:25] ppocr DEBUG: 1., 1.000\n",
      "[2024/12/31 02:44:25] ppocr DEBUG: Lý, 0.999\n",
      "[2024/12/31 02:44:25] ppocr DEBUG: do, 0.978\n",
      "[2024/12/31 02:44:25] ppocr DEBUG: trình, 1.000\n",
      "[2024/12/31 02:44:25] ppocr DEBUG: Ngay, 1.000\n",
      "[2024/12/31 02:44:25] ppocr DEBUG: từ, 1.000\n",
      "[2024/12/31 02:44:25] ppocr DEBUG: khi, 1.000\n",
      "[2024/12/31 02:44:25] ppocr DEBUG: bắt, 1.000\n",
      "[2024/12/31 02:44:25] ppocr DEBUG: đầu, 1.000\n",
      "[2024/12/31 02:44:25] ppocr DEBUG: giai, 1.000\n",
      "[2024/12/31 02:44:25] ppocr DEBUG: đoạn, 1.000\n",
      "[2024/12/31 02:44:25] ppocr DEBUG: của, 1.000\n",
      "[2024/12/31 02:44:25] ppocr DEBUG: dự, 0.998\n",
      "[2024/12/31 02:44:25] ppocr DEBUG: án, 1.000\n",
      "[2024/12/31 02:44:25] ppocr DEBUG: xây, 1.000\n",
      "[2024/12/31 02:44:25] ppocr DEBUG: dựng, 1.000\n",
      "[2024/12/31 02:44:25] ppocr DEBUG: hệ, 0.806\n",
      "[2024/12/31 02:44:25] ppocr DEBUG: thống, 0.929\n",
      "[2024/12/31 02:44:25] ppocr DEBUG: cơ, 1.000\n",
      "[2024/12/31 02:44:25] ppocr DEBUG: sở, 1.000\n",
      "[2024/12/31 02:44:25] ppocr DEBUG: dữ, 1.000\n",
      "[2024/12/31 02:44:25] ppocr DEBUG: liệu, 0.893\n",
      "[2024/12/31 02:44:25] ppocr DEBUG: tìm, 0.999\n",
      "[2024/12/31 02:44:25] ppocr DEBUG: kiếm, 0.998\n",
      "[2024/12/31 02:44:25] ppocr DEBUG: thăm, 1.000\n",
      "[2024/12/31 02:44:25] ppocr DEBUG: dò, 0.999\n",
      "[2024/12/31 02:44:25] ppocr DEBUG: và, 1.000\n",
      "[2024/12/31 02:44:25] ppocr DEBUG: khai, 0.977\n",
      "[2024/12/31 02:44:25] ppocr DEBUG: thác, 1.000\n",
      "[2024/12/31 02:44:25] ppocr DEBUG: dầu, 1.000\n",
      "[2024/12/31 02:44:25] ppocr DEBUG: khí, 0.998\n",
      "[2024/12/31 02:44:25] ppocr DEBUG: cho, 0.986\n",
      "[2024/12/31 02:44:25] ppocr DEBUG: PVN,, 0.999\n",
      "[2024/12/31 02:44:25] ppocr DEBUG: Ban, 1.000\n",
      "[2024/12/31 02:44:25] ppocr DEBUG: Tổng, 0.999\n",
      "[2024/12/31 02:44:25] ppocr DEBUG: giám, 1.000\n",
      "[2024/12/31 02:44:25] ppocr DEBUG: đốc, 1.000\n",
      "[2024/12/31 02:44:25] ppocr DEBUG: VTS, 0.999\n",
      "[2024/12/31 02:44:25] ppocr DEBUG: đã, 1.000\n",
      "[2024/12/31 02:44:25] ppocr DEBUG: giao, 1.000\n",
      "[2024/12/31 02:44:25] ppocr DEBUG: nhiệm, 1.000\n",
      "[2024/12/31 02:44:25] ppocr DEBUG: vụ, 1.000\n",
      "[2024/12/31 02:44:25] ppocr DEBUG: cho, 1.000\n",
      "[2024/12/31 02:44:25] ppocr DEBUG: trung, 0.934\n",
      "[2024/12/31 02:44:25] ppocr DEBUG: tâm, 1.000\n",
      "[2024/12/31 02:44:25] ppocr DEBUG: Dịch, 1.000\n",
      "[2024/12/31 02:44:25] ppocr DEBUG: vụ, 1.000\n",
      "[2024/12/31 02:44:25] ppocr DEBUG: phân, 1.000\n",
      "[2024/12/31 02:44:25] ppocr DEBUG: tích, 1.000\n",
      "[2024/12/31 02:44:25] ppocr DEBUG: dữ, 1.000\n",
      "[2024/12/31 02:44:25] ppocr DEBUG: liệu, 1.000\n",
      "[2024/12/31 02:44:25] ppocr DEBUG: nghiên, 0.933\n",
      "[2024/12/31 02:44:25] ppocr DEBUG: cứu, 1.000\n",
      "[2024/12/31 02:44:25] ppocr DEBUG: 23,, 1.000\n",
      "[2024/12/31 02:44:25] ppocr DEBUG: phát, 1.000\n",
      "[2024/12/31 02:44:25] ppocr DEBUG: triển, 1.000\n",
      "[2024/12/31 02:44:25] ppocr DEBUG: các, 0.991\n",
      "[2024/12/31 02:44:25] ppocr DEBUG: bài, 0.845\n",
      "[2024/12/31 02:44:25] ppocr DEBUG: toán, 1.000\n",
      "[2024/12/31 02:44:25] ppocr DEBUG: ứng, 1.000\n",
      "[2024/12/31 02:44:25] ppocr DEBUG: dụng, 0.913\n",
      "[2024/12/31 02:44:25] ppocr DEBUG: khoa, 1.000\n",
      "[2024/12/31 02:44:25] ppocr DEBUG: học, 1.000\n",
      "[2024/12/31 02:44:25] ppocr DEBUG: dữ, 1.000\n",
      "[2024/12/31 02:44:25] ppocr DEBUG: liệu, 1.000\n",
      "[2024/12/31 02:44:25] ppocr DEBUG: và, 1.000\n",
      "[2024/12/31 02:44:25] ppocr DEBUG: trí, 0.997\n",
      "[2024/12/31 02:44:25] ppocr DEBUG: tuệ, 1.000\n",
      "[2024/12/31 02:44:25] ppocr DEBUG: nhân, 1.000\n",
      "[2024/12/31 02:44:25] ppocr DEBUG: 12, 1.000\n",
      "[2024/12/31 02:44:25] ppocr DEBUG: tạo, 1.000\n",
      "[2024/12/31 02:44:25] ppocr DEBUG: trong, 0.950\n",
      "[2024/12/31 02:44:25] ppocr DEBUG: việc, 1.000\n",
      "[2024/12/31 02:44:25] ppocr DEBUG: nâng, 1.000\n",
      "[2024/12/31 02:44:25] ppocr DEBUG: cao, 0.858\n",
      "[2024/12/31 02:44:25] ppocr DEBUG: hiệu, 1.000\n",
      "[2024/12/31 02:44:25] ppocr DEBUG: quả, 0.998\n",
      "[2024/12/31 02:44:25] ppocr DEBUG: các, 1.000\n",
      "[2024/12/31 02:44:25] ppocr DEBUG: hoạt, 1.000\n",
      "[2024/12/31 02:44:25] ppocr DEBUG: động, 1.000\n",
      "[2024/12/31 02:44:25] ppocr DEBUG: tìm, 0.999\n",
      "[2024/12/31 02:44:25] ppocr DEBUG: kiếm, 0.989\n",
      "[2024/12/31 02:44:25] ppocr DEBUG: thăm, 1.000\n",
      "[2024/12/31 02:44:25] ppocr DEBUG: dò, 0.998\n",
      "[2024/12/31 02:44:25] ppocr DEBUG: và, 1.000\n",
      "[2024/12/31 02:44:25] ppocr DEBUG: khai, 0.944\n",
      "[2024/12/31 02:44:25] ppocr DEBUG: thác, 0.997\n",
      "[2024/12/31 02:44:25] ppocr DEBUG: dầu, 1.000\n",
      "[2024/12/31 02:44:25] ppocr DEBUG: khí., 0.999\n",
      "[2024/12/31 02:44:25] ppocr DEBUG: Trung, 1.000\n",
      "[2024/12/31 02:44:25] ppocr DEBUG: tâm, 1.000\n",
      "[2024/12/31 02:44:25] ppocr DEBUG: Dịch, 0.884\n",
      "[2024/12/31 02:44:25] ppocr DEBUG: vụ, 0.882\n",
      "[2024/12/31 02:44:25] ppocr DEBUG: Phân, 0.964\n",
      "[2024/12/31 02:44:25] ppocr DEBUG: tích, 0.889\n",
      "[2024/12/31 02:44:25] ppocr DEBUG: dữ, 0.997\n",
      "[2024/12/31 02:44:25] ppocr DEBUG: O, 0.587\n",
      "[2024/12/31 02:44:25] ppocr DEBUG: liệu, 0.999\n",
      "[2024/12/31 02:44:25] ppocr DEBUG: đã, 1.000\n",
      "[2024/12/31 02:44:25] ppocr DEBUG: chủ, 1.000\n",
      "[2024/12/31 02:44:25] ppocr DEBUG: động, 0.955\n",
      "[2024/12/31 02:44:25] ppocr DEBUG: nghiên, 0.938\n",
      "[2024/12/31 02:44:25] ppocr DEBUG: cứu,, 1.000\n",
      "[2024/12/31 02:44:25] ppocr DEBUG: phát, 1.000\n",
      "[2024/12/31 02:44:25] ppocr DEBUG: triển, 1.000\n",
      "[2024/12/31 02:44:25] ppocr DEBUG: tri, 0.946\n",
      "[2024/12/31 02:44:25] ppocr DEBUG: thức, 1.000\n",
      "[2024/12/31 02:44:25] ppocr DEBUG: chuyên, 1.000\n",
      "[2024/12/31 02:44:25] ppocr DEBUG: ngành, 0.991\n",
      "[2024/12/31 02:44:25] ppocr DEBUG: dầu, 1.000\n",
      "[2024/12/31 02:44:25] ppocr DEBUG: khí,, 0.899\n",
      "[2024/12/31 02:44:25] ppocr DEBUG: kết, 1.000\n",
      "[2024/12/31 02:44:25] ppocr DEBUG: hợp, 1.000\n",
      "[2024/12/31 02:44:25] ppocr DEBUG: với, 1.000\n",
      "[2024/12/31 02:44:25] ppocr DEBUG: nền, 0.994\n",
      "[2024/12/31 02:44:25] ppocr DEBUG: tảng, 0.888\n",
      "[2024/12/31 02:44:25] ppocr DEBUG: vững, 1.000\n",
      "[2024/12/31 02:44:25] ppocr DEBUG: chắc, 1.000\n",
      "[2024/12/31 02:44:25] ppocr DEBUG: trong, 0.931\n",
      "[2024/12/31 02:44:25] ppocr DEBUG: lĩnh, 1.000\n",
      "[2024/12/31 02:44:25] ppocr DEBUG: vực, 1.000\n",
      "[2024/12/31 02:44:25] ppocr DEBUG: khoa, 0.957\n",
      "[2024/12/31 02:44:25] ppocr DEBUG: học, 1.000\n",
      "[2024/12/31 02:44:25] ppocr DEBUG: dữ, 1.000\n",
      "[2024/12/31 02:44:25] ppocr DEBUG: liệu,, 1.000\n",
      "[2024/12/31 02:44:25] ppocr DEBUG: để, 0.774\n",
      "[2024/12/31 02:44:25] ppocr DEBUG: phát, 0.921\n",
      "[2024/12/31 02:44:25] ppocr DEBUG: triển, 0.972\n",
      "[2024/12/31 02:44:25] ppocr DEBUG: thành, 1.000\n",
      "[2024/12/31 02:44:25] ppocr DEBUG: công, 1.000\n",
      "[2024/12/31 02:44:25] ppocr DEBUG: giải, 1.000\n",
      "[2024/12/31 02:44:25] ppocr DEBUG: pháp, 0.989\n",
      "[2024/12/31 02:44:25] ppocr DEBUG: tối, 1.000\n",
      "[2024/12/31 02:44:25] ppocr DEBUG: ưu, 1.000\n",
      "[2024/12/31 02:44:25] ppocr DEBUG: hóa, 0.982\n",
      "[2024/12/31 02:44:25] ppocr DEBUG: quy, 1.000\n",
      "[2024/12/31 02:44:25] ppocr DEBUG: trình, 1.000\n",
      "[2024/12/31 02:44:25] ppocr DEBUG: xử, 1.000\n",
      "[2024/12/31 02:44:25] ppocr DEBUG: lý, 0.951\n",
      "[2024/12/31 02:44:25] ppocr DEBUG: và, 1.000\n",
      "[2024/12/31 02:44:25] ppocr DEBUG: minh, 1.000\n",
      "[2024/12/31 02:44:25] ppocr DEBUG: giải, 1.000\n",
      "[2024/12/31 02:44:25] ppocr DEBUG: dữ, 1.000\n",
      "[2024/12/31 02:44:25] ppocr DEBUG: liệu, 0.915\n",
      "[2024/12/31 02:44:26] ppocr DEBUG: The visualized image saved in ./inference_results/Test1.png\n",
      "[2024/12/31 02:44:26] ppocr INFO: The predict total time is 0.9286420345306396\n"
     ]
    }
   ],
   "source": [
    "!python3 tools/infer/predict_system.py \\\n",
    "     --image_dir=\"/raid/kientdt/shared_drive_cv/ocr/tungnt/document_extraction/data/test/Test1.png\" \\\n",
    "     --det_model_dir=\"./inference/vi_det_db_inference_best_accuracy\" \\\n",
    "     --rec_model_dir=\"./inference/vi_ver_with_number\" \\\n",
    "     --use_angle_cls=false \\\n",
    "     --rec_char_dict_path=\"ppocr/utils/dict/my_vi_dict.txt\"\n"
   ]
  },
  {
   "cell_type": "code",
   "execution_count": null,
   "id": "153ae345",
   "metadata": {},
   "outputs": [],
   "source": []
  }
 ],
 "metadata": {
  "kernelspec": {
   "display_name": "cv",
   "language": "python",
   "name": "python3"
  },
  "language_info": {
   "codemirror_mode": {
    "name": "ipython",
    "version": 3
   },
   "file_extension": ".py",
   "mimetype": "text/x-python",
   "name": "python",
   "nbconvert_exporter": "python",
   "pygments_lexer": "ipython3",
   "version": "3.9.21"
  }
 },
 "nbformat": 4,
 "nbformat_minor": 5
}
