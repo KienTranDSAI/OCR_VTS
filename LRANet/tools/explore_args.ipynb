{
 "cells": [
  {
   "cell_type": "code",
   "execution_count": 2,
   "metadata": {},
   "outputs": [],
   "source": [
    "from train import *"
   ]
  },
  {
   "cell_type": "code",
   "execution_count": 4,
   "metadata": {},
   "outputs": [],
   "source": [
    "# # import argparse\n",
    "\n",
    "# # Step 1: Initialize the parser\n",
    "# parser = argparse.ArgumentParser(description='Train a detector.')\n",
    "\n",
    "# # Step 2: Add arguments (similar to the ones in your script)\n",
    "# parser.add_argument('config', help='Train config file path.')\n",
    "# parser.add_argument('--work-dir', help='The dir to save logs and models.', default='./work_dirs')\n",
    "# parser.add_argument('--load-from', help='The checkpoint file to load from.')\n",
    "# parser.add_argument('--resume-from', help='The checkpoint file to resume from.')\n",
    "# parser.add_argument('--no-validate', action='store_true', help='Skip validation during training.')\n",
    "# parser.add_argument('--gpus', type=int, help='Number of GPUs to use.')\n",
    "# parser.add_argument('--gpu-ids', type=int, nargs='+', help='List of GPU IDs to use.')\n",
    "# parser.add_argument('--seed', type=int, default=None, help='Random seed.')\n",
    "# parser.add_argument('--deterministic', action='store_true', help='Enable deterministic behavior.')\n",
    "# parser.add_argument('--cfg-options', nargs='+', help='Override config options in key=value format.')\n",
    "# parser.add_argument('--launcher', choices=['none', 'pytorch', 'slurm', 'mpi'], default='none', help='Launcher type.')\n",
    "# parser.add_argument('--local-rank', type=int, default=0, help='Local rank for distributed training.')\n",
    "\n",
    "# # Step 3: Simulate the command-line arguments in a notebook\n",
    "# # You can provide a list of arguments as if they were passed via the command line.\n",
    "# simulated_args = [\n",
    "#     'path/to/config.py',                # Positional argument\n",
    "#     '--work-dir', 'path/to/work_dir',   # Optional argument\n",
    "#     '--seed', '42',                     # Optional argument\n",
    "#     '--gpus', '2',                      # Optional argument\n",
    "#     '--cfg-options', 'key1=value1', 'key2=value2',  # Config overrides\n",
    "#     '--deterministic',                  # Flag (doesn't require a value)\n",
    "# ]\n",
    "\n",
    "# # Step 4: Parse the simulated arguments\n",
    "# args = parser.parse_args(simulated_args)\n",
    "\n",
    "# # Step 5: Use the parsed arguments\n",
    "# print(\"Parsed Arguments:\")\n",
    "# print(f\"Config Path: {args.config}\")\n",
    "# print(f\"Work Directory: {args.work_dir}\")\n",
    "# print(f\"Seed: {args.seed}\")\n",
    "# print(f\"Number of GPUs: {args.gpus}\")\n",
    "# print(f\"Config Overrides: {args.cfg_options}\")\n",
    "# print(f\"Deterministic Mode: {args.deterministic}\")\n"
   ]
  },
  {
   "cell_type": "code",
   "execution_count": 11,
   "metadata": {},
   "outputs": [
    {
     "name": "stdout",
     "output_type": "stream",
     "text": [
      "Parsed Arguments:\n",
      "Namespace(cfg_options=['key1=value1', 'key2=value2'], config='path/to/config.py', deterministic=False, gpu_ids=None, gpus=2, launcher='none', load_from=None, local_rank=0, no_validate=False, resume_from=None, seed=42, work_dir='path/to/work_dir')\n"
     ]
    }
   ],
   "source": [
    "# Simulate command-line arguments\n",
    "import sys\n",
    "from argparse import ArgumentParser\n",
    "\n",
    "# Backup the original arguments and replace them with simulated ones\n",
    "sys.argv = [\n",
    "    'notebook',                     # Dummy program name\n",
    "    'path/to/config.py',            # Positional argument: config\n",
    "    '--work-dir', 'path/to/work_dir',  # Optional arguments\n",
    "    '--seed', '42',                 \n",
    "    '--gpus', '2',\n",
    "    '--cfg-options', 'key1=value1', 'key2=value2',  # Config overrides\n",
    "]\n",
    "\n",
    "# Define the parser and arguments as in your script\n",
    "parser = ArgumentParser(description='Train a detector.')\n",
    "parser.add_argument('config', help='Train config file path.')\n",
    "parser.add_argument('--work-dir', help='The dir to save logs and models.')\n",
    "parser.add_argument('--load-from', help='The checkpoint file to load from.')\n",
    "parser.add_argument('--resume-from', help='The checkpoint file to resume from.')\n",
    "parser.add_argument('--no-validate', action='store_true', help='Skip validation.')\n",
    "parser.add_argument('--gpus', type=int, help='Number of GPUs to use.')\n",
    "parser.add_argument('--gpu-ids', type=int, nargs='+', help='IDs of GPUs to use.')\n",
    "parser.add_argument('--seed', type=int, default=None, help='Random seed.')\n",
    "parser.add_argument('--deterministic', action='store_true', help='Enable deterministic behavior.')\n",
    "parser.add_argument('--cfg-options', nargs='+', help='Override config options in key=value format.')\n",
    "parser.add_argument('--launcher', choices=['none', 'pytorch', 'slurm', 'mpi'], default='none', help='Launcher type.')\n",
    "parser.add_argument('--local-rank', type=int, default=0, help='Local rank for distributed training.')\n",
    "\n",
    "# Parse the simulated arguments\n",
    "args = parser.parse_args()\n",
    "\n",
    "# Print parsed arguments for verification\n",
    "print(\"Parsed Arguments:\")\n",
    "print(args)\n"
   ]
  }
 ],
 "metadata": {
  "kernelspec": {
   "display_name": "lranet",
   "language": "python",
   "name": "python3"
  },
  "language_info": {
   "codemirror_mode": {
    "name": "ipython",
    "version": 3
   },
   "file_extension": ".py",
   "mimetype": "text/x-python",
   "name": "python",
   "nbconvert_exporter": "python",
   "pygments_lexer": "ipython3",
   "version": "3.7.12"
  }
 },
 "nbformat": 4,
 "nbformat_minor": 2
}
